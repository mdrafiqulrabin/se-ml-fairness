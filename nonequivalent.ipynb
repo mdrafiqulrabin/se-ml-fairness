{
 "cells": [
  {
   "cell_type": "code",
   "execution_count": null,
   "metadata": {},
   "outputs": [],
   "source": [
    "import os, glob, pathlib, shutil, random\n",
    "from config import Config\n",
    "import pandas as pd\n",
    "import numpy as np\n",
    "mRS = 42"
   ]
  },
  {
   "cell_type": "code",
   "execution_count": null,
   "metadata": {},
   "outputs": [],
   "source": [
    "def save_file(df, kind, filePath, fileName):\n",
    "    df = df.reset_index(drop=True)\n",
    "    newFilePath = os.path.join(filePath, kind, fileName)\n",
    "    pathlib.Path(os.path.dirname(newFilePath)).mkdir(parents=True, exist_ok=True)\n",
    "    df.to_csv(newFilePath, index=False)"
   ]
  },
  {
   "cell_type": "code",
   "execution_count": null,
   "metadata": {},
   "outputs": [],
   "source": [
    "def apply_nonequivalent(cfg, df_org, fileName):\n",
    "    \n",
    "    def ne_change_target(df, fileName, th):\n",
    "        # TODO\n",
    "        save_file(df, \"ne_\" + str(th), cfg.NE_DATA_PATH, fileName)\n",
    "        print(\"\\tCompleted {}% non-equivalent.\".format(th))\n",
    "    \n",
    "    for th in [25, 50, 75, 100]:\n",
    "        ne_change_target(df_org.copy(), fileName, th)\n",
    "    "
   ]
  },
  {
   "cell_type": "code",
   "execution_count": null,
   "metadata": {
    "scrolled": false
   },
   "outputs": [],
   "source": [
    "cfg = Config()\n",
    "fileNames = [os.path.basename(filePath) for filePath in glob.glob(os.path.join(cfg.ORG_DATA_PATH, \"*.csv\"))]\n",
    "for fileName in fileNames:\n",
    "    orgFilePath = os.path.join(cfg.ORG_DATA_PATH, fileName)\n",
    "    df_org = pd.read_csv(orgFilePath, delimiter=\",\", index_col=False)\n",
    "    print(\"Original Dataset={} [(rows, cols) = {}]\".format(fileName, df_org.shape))\n",
    "    print(\"Creating non-equivalent dataset:\")\n",
    "    apply_nonequivalent(cfg, df_org.copy(), fileName)\n",
    "    print(\"\\n\")"
   ]
  },
  {
   "cell_type": "code",
   "execution_count": null,
   "metadata": {},
   "outputs": [],
   "source": []
  }
 ],
 "metadata": {
  "kernelspec": {
   "display_name": "Python 3",
   "language": "python",
   "name": "python3"
  },
  "language_info": {
   "codemirror_mode": {
    "name": "ipython",
    "version": 3
   },
   "file_extension": ".py",
   "mimetype": "text/x-python",
   "name": "python",
   "nbconvert_exporter": "python",
   "pygments_lexer": "ipython3",
   "version": "3.7.7"
  }
 },
 "nbformat": 4,
 "nbformat_minor": 2
}
