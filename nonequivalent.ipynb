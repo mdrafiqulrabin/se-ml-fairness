{
 "cells": [
  {
   "cell_type": "code",
   "execution_count": 1,
   "metadata": {},
   "outputs": [],
   "source": [
    "import os, glob, pathlib, shutil, random\n",
    "from config import Config\n",
    "import pandas as pd\n",
    "import numpy as np\n",
    "import warnings\n",
    "warnings.simplefilter(\"ignore\")\n",
    "mRS = 42"
   ]
  },
  {
   "cell_type": "code",
   "execution_count": 2,
   "metadata": {},
   "outputs": [],
   "source": [
    "def save_file(df, kind, filePath, fileName):\n",
    "    df = df.reset_index(drop=True)\n",
    "    newFilePath = os.path.join(filePath, kind, fileName)\n",
    "    pathlib.Path(os.path.dirname(newFilePath)).mkdir(parents=True, exist_ok=True)\n",
    "    df.to_csv(newFilePath, index=False)"
   ]
  },
  {
   "cell_type": "code",
   "execution_count": 3,
   "metadata": {},
   "outputs": [],
   "source": [
    "def apply_nonequivalent(cfg, df_org, fileName):\n",
    "\n",
    "    def ne_change_target(df, fileName, th):\n",
    "        dfhead = df.iloc[0:int(len(df)*th)] \n",
    "        dftail = df.iloc[int(len(df)*th):len(df)]\n",
    "        cols = list(dfhead.columns)\n",
    "        dfhead[cols[-1]] = np.random.RandomState(seed=mRS).permutation(dfhead[cols[-1]].values)\n",
    "        df = pd.concat([dfhead, dftail], ignore_index=True)\n",
    "        save_file(df, \"ne_\" + str(th), cfg.NE_DATA_PATH, fileName)\n",
    "        print(\"\\tCompleted {}% non-equivalent.\".format(th*100))\n",
    "\n",
    "    for th in [0.25, 0.50, 0.75, 1.0]:                                    \n",
    "        ne_change_target(df_org.copy(), fileName, th)"
   ]
  },
  {
   "cell_type": "code",
   "execution_count": 4,
   "metadata": {
    "scrolled": false
   },
   "outputs": [
    {
     "name": "stdout",
     "output_type": "stream",
     "text": [
      "Original Dataset=SE_Process.csv [(rows, cols) = (793, 85)]\n",
      "Creating non-equivalent dataset:\n",
      "\tCompleted 25.0% non-equivalent.\n",
      "\tCompleted 50.0% non-equivalent.\n",
      "\tCompleted 75.0% non-equivalent.\n",
      "\tCompleted 100.0% non-equivalent.\n",
      "\n",
      "\n",
      "Original Dataset=Immuno_Therapy.csv [(rows, cols) = (90, 8)]\n",
      "Creating non-equivalent dataset:\n",
      "\tCompleted 25.0% non-equivalent.\n",
      "\tCompleted 50.0% non-equivalent.\n",
      "\tCompleted 75.0% non-equivalent.\n",
      "\tCompleted 100.0% non-equivalent.\n",
      "\n",
      "\n",
      "Original Dataset=German_Credit.csv [(rows, cols) = (1000, 25)]\n",
      "Creating non-equivalent dataset:\n",
      "\tCompleted 25.0% non-equivalent.\n",
      "\tCompleted 50.0% non-equivalent.\n",
      "\tCompleted 75.0% non-equivalent.\n",
      "\tCompleted 100.0% non-equivalent.\n",
      "\n",
      "\n",
      "Original Dataset=Lung_Cancer.csv [(rows, cols) = (27, 57)]\n",
      "Creating non-equivalent dataset:\n",
      "\tCompleted 25.0% non-equivalent.\n",
      "\tCompleted 50.0% non-equivalent.\n",
      "\tCompleted 75.0% non-equivalent.\n",
      "\tCompleted 100.0% non-equivalent.\n",
      "\n",
      "\n",
      "Original Dataset=Voice_Rehabilitation.csv [(rows, cols) = (126, 311)]\n",
      "Creating non-equivalent dataset:\n",
      "\tCompleted 25.0% non-equivalent.\n",
      "\tCompleted 50.0% non-equivalent.\n",
      "\tCompleted 75.0% non-equivalent.\n",
      "\tCompleted 100.0% non-equivalent.\n",
      "\n",
      "\n",
      "Original Dataset=Breast_Cancer.csv [(rows, cols) = (683, 11)]\n",
      "Creating non-equivalent dataset:\n",
      "\tCompleted 25.0% non-equivalent.\n",
      "\tCompleted 50.0% non-equivalent.\n",
      "\tCompleted 75.0% non-equivalent.\n",
      "\tCompleted 100.0% non-equivalent.\n",
      "\n",
      "\n"
     ]
    }
   ],
   "source": [
    "cfg = Config()\n",
    "fileNames = [os.path.basename(filePath) for filePath in glob.glob(os.path.join(cfg.ORG_DATA_PATH, \"*.csv\"))]\n",
    "for fileName in fileNames:\n",
    "    orgFilePath = os.path.join(cfg.ORG_DATA_PATH, fileName)\n",
    "    df_org = pd.read_csv(orgFilePath, delimiter=\",\", index_col=False)\n",
    "    print(\"Original Dataset={} [(rows, cols) = {}]\".format(fileName, df_org.shape))\n",
    "    print(\"Creating non-equivalent dataset:\")\n",
    "    apply_nonequivalent(cfg, df_org.copy(), fileName)\n",
    "    print(\"\\n\")"
   ]
  },
  {
   "cell_type": "code",
   "execution_count": null,
   "metadata": {},
   "outputs": [],
   "source": []
  }
 ],
 "metadata": {
  "kernelspec": {
   "display_name": "Python 3",
   "language": "python",
   "name": "python3"
  },
  "language_info": {
   "codemirror_mode": {
    "name": "ipython",
    "version": 3
   },
   "file_extension": ".py",
   "mimetype": "text/x-python",
   "name": "python",
   "nbconvert_exporter": "python",
   "pygments_lexer": "ipython3",
   "version": "3.7.7"
  }
 },
 "nbformat": 4,
 "nbformat_minor": 2
}
