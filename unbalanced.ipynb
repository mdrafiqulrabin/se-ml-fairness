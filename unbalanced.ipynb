{
 "cells": [
  {
   "cell_type": "code",
   "execution_count": 1,
   "metadata": {},
   "outputs": [],
   "source": [
    "import os, glob, pathlib, shutil, random\n",
    "from config import Config\n",
    "import pandas as pd\n",
    "import numpy as np\n",
    "mRS = 42"
   ]
  },
  {
   "cell_type": "code",
   "execution_count": 2,
   "metadata": {},
   "outputs": [],
   "source": [
    "def save_file(df, kind, filePath, fileName):\n",
    "    df = df.reset_index(drop=True)\n",
    "    newFilePath = os.path.join(filePath, kind, fileName)\n",
    "    pathlib.Path(os.path.dirname(newFilePath)).mkdir(parents=True, exist_ok=True)\n",
    "    df.to_csv(newFilePath, index=False)"
   ]
  },
  {
   "cell_type": "code",
   "execution_count": 3,
   "metadata": {},
   "outputs": [],
   "source": [
    "def apply_col_permutation(cfg, df_org, fileName):\n",
    "    \n",
    "    def per_random(df, fileName):\n",
    "        cols = list(df.columns)\n",
    "        cols = random.Random(mRS).sample(cols[:-1], len(cols[:-1])) + [cols[-1]]\n",
    "        df = df[cols]\n",
    "        save_file(df, \"fa1\", cfg.UB_COLS_PATH, fileName)\n",
    "    per_random(df_org.copy(), fileName)\n",
    "    print(\"\\tCompleted Random Permutation.\")\n",
    "    \n",
    "    def per_deleting(df, fileName):\n",
    "        cols = list(df.columns)\n",
    "        randcol=random.randint(0,len(cols[:-1]))\n",
    "        df =df.drop(cols[randcol], axis=1)\n",
    "        save_file(df, \"fa2\", cfg.UB_COLS_PATH, fileName)\n",
    "    per_deleting(df_org.copy(), fileName)\n",
    "    print(\"\\tCompleted Random Deleting Permutation.\")\n",
    "    \n",
    "    def per_remove_last_feature(df, fileName):\n",
    "        cols = list(df.columns)\n",
    "        lastfeature = cols[-2]\n",
    "        df = df.drop(lastfeature, axis=1)\n",
    "\n",
    "        save_file(df, \"unba\", cfg.UB_COLS_PATH, fileName)          \n",
    "    per_remove_last_feature(df_org.copy(), fileName)\n",
    "    print(\"\\tCompleted Removing Last Feature Permutation.\")\n",
    "    \n",
    "    def Knn_window_size(df,filename):\n",
    "         df = df.tail(500)\n",
    "         save_file(df, \"Knn_ws\", cfg.UB_COLS_PATH, fileName)          \n",
    "    Knn_window_size(df_org.copy(), fileName)\n",
    "    print(\"\\tCompleted Knn_ws.\")"
   ]
  },
  {
   "cell_type": "code",
   "execution_count": 4,
   "metadata": {
    "scrolled": false
   },
   "outputs": [
    {
     "name": "stdout",
     "output_type": "stream",
     "text": [
      "Dataset=SE_Process.csv [(rows, cols) = (793, 85)]\n",
      "Applying col permutation:\n",
      "\tCompleted Random Permutation.\n",
      "\tCompleted Random Deleting Permutation.\n",
      "\tCompleted Removing Last Feature Permutation.\n",
      "\tCompleted Knn_ws.\n",
      "\n",
      "\n",
      "Dataset=Immuno_Therapy.csv [(rows, cols) = (90, 8)]\n",
      "Applying col permutation:\n",
      "\tCompleted Random Permutation.\n",
      "\tCompleted Random Deleting Permutation.\n",
      "\tCompleted Removing Last Feature Permutation.\n",
      "\tCompleted Knn_ws.\n",
      "\n",
      "\n",
      "Dataset=German_Credit.csv [(rows, cols) = (1000, 25)]\n",
      "Applying col permutation:\n",
      "\tCompleted Random Permutation.\n",
      "\tCompleted Random Deleting Permutation.\n",
      "\tCompleted Removing Last Feature Permutation.\n",
      "\tCompleted Knn_ws.\n",
      "\n",
      "\n",
      "Dataset=Lung_Cancer.csv [(rows, cols) = (27, 57)]\n",
      "Applying col permutation:\n",
      "\tCompleted Random Permutation.\n",
      "\tCompleted Random Deleting Permutation.\n",
      "\tCompleted Removing Last Feature Permutation.\n",
      "\tCompleted Knn_ws.\n",
      "\n",
      "\n",
      "Dataset=Voice_Rehabilitation.csv [(rows, cols) = (126, 311)]\n",
      "Applying col permutation:\n",
      "\tCompleted Random Permutation.\n",
      "\tCompleted Random Deleting Permutation.\n",
      "\tCompleted Removing Last Feature Permutation.\n",
      "\tCompleted Knn_ws.\n",
      "\n",
      "\n",
      "Dataset=Breast_Cancer.csv [(rows, cols) = (683, 11)]\n",
      "Applying col permutation:\n",
      "\tCompleted Random Permutation.\n",
      "\tCompleted Random Deleting Permutation.\n",
      "\tCompleted Removing Last Feature Permutation.\n",
      "\tCompleted Knn_ws.\n",
      "\n",
      "\n"
     ]
    }
   ],
   "source": [
    "cfg = Config()\n",
    "fileNames = [os.path.basename(filePath) for filePath in glob.glob(os.path.join(cfg.ORG_DATA_PATH, \"*.csv\"))]\n",
    "for fileName in fileNames:\n",
    "    orgFilePath = os.path.join(cfg.ORG_DATA_PATH, fileName)\n",
    "    df_org = pd.read_csv(orgFilePath, delimiter=\",\", index_col=False)\n",
    "    print(\"Dataset={} [(rows, cols) = {}]\".format(fileName, df_org.shape))\n",
    "    print(\"Applying col permutation:\")\n",
    "    apply_col_permutation(cfg, df_org.copy(), fileName)\n",
    "    print(\"\\n\")"
   ]
  },
  {
   "cell_type": "code",
   "execution_count": null,
   "metadata": {},
   "outputs": [],
   "source": []
  }
 ],
 "metadata": {
  "kernelspec": {
   "display_name": "Python 3",
   "language": "python",
   "name": "python3"
  },
  "language_info": {
   "codemirror_mode": {
    "name": "ipython",
    "version": 3
   },
   "file_extension": ".py",
   "mimetype": "text/x-python",
   "name": "python",
   "nbconvert_exporter": "python",
   "pygments_lexer": "ipython3",
   "version": "3.7.4"
  }
 },
 "nbformat": 4,
 "nbformat_minor": 2
}
