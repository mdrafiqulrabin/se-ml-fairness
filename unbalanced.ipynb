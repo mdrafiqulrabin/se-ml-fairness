{
 "cells": [
  {
   "cell_type": "code",
   "execution_count": 1,
   "metadata": {},
   "outputs": [],
   "source": [
    "import os, glob, pathlib, shutil, random\n",
    "from config import Config\n",
    "import pandas as pd\n",
    "import numpy as np\n",
    "mRS = 42"
   ]
  },
  {
   "cell_type": "code",
   "execution_count": 2,
   "metadata": {},
   "outputs": [],
   "source": [
    "def save_file(df, kind, filePath, fileName):\n",
    "    df = df.reset_index(drop=True)\n",
    "    newFilePath = os.path.join(filePath, kind, fileName)\n",
    "    pathlib.Path(os.path.dirname(newFilePath)).mkdir(parents=True, exist_ok=True)\n",
    "    df.to_csv(newFilePath, index=False)"
   ]
  },
  {
   "cell_type": "code",
   "execution_count": 3,
   "metadata": {},
   "outputs": [],
   "source": [
    "def apply_unbalanced(cfg, df_org, fileName):\n",
    "    \n",
    "    def ub_window_size(df, filename):\n",
    "        df = df.tail(int(len(df)/2))\n",
    "        save_file(df, \"window_size\", cfg.UB_DATA_PATH, fileName)          \n",
    "    ub_window_size(df_org.copy(), fileName)\n",
    "    print(\"\\tCompleted UbWs: window_size Unbalanced.\")\n",
    "    \n",
    "    def ub_random_selection(df, fileName):\n",
    "        cols = list(df.columns)\n",
    "        randNcol = random.Random(mRS).randint(2, len(cols[:-1])-2)\n",
    "        cols = random.Random(mRS).sample(cols[:-1], randNcol) + [cols[-1]]\n",
    "        df = df[cols]\n",
    "        save_file(df, \"random_selection\", cfg.UB_DATA_PATH, fileName)\n",
    "    ub_random_selection(df_org.copy(), fileName)\n",
    "    print(\"\\tCompleted UbRs: Random Selection Unbalanced.\")\n",
    "    \n",
    "    def ub_random_deletion(df, fileName):\n",
    "        cols = list(df.columns)\n",
    "        randNcol = random.Random(mRS).randint(2, len(cols[:-1])-2)\n",
    "        cols = random.Random(mRS).sample(cols[:-1], randNcol)\n",
    "        df = df.drop(cols, axis=1)\n",
    "        save_file(df, \"random_deletion\", cfg.UB_DATA_PATH, fileName)\n",
    "    ub_random_deletion(df_org.copy(), fileName)\n",
    "    print(\"\\tCompleted UbRd: Random Deleting Unbalanced.\")\n",
    "    \n",
    "    def ub_remove_last_feature(df, fileName):\n",
    "        cols = list(df.columns)\n",
    "        lastfeature = cols[-2]\n",
    "        df = df.drop(lastfeature, axis=1)\n",
    "        save_file(df, \"remove_last_feature\", cfg.UB_DATA_PATH, fileName)          \n",
    "    ub_remove_last_feature(df_org.copy(), fileName)\n",
    "    print(\"\\tCompleted UnBa: Removing Last Feature Unbalanced.\")"
   ]
  },
  {
   "cell_type": "code",
   "execution_count": 4,
   "metadata": {
    "scrolled": false
   },
   "outputs": [
    {
     "name": "stdout",
     "output_type": "stream",
     "text": [
      "Original Dataset=SE_Process.csv [(rows, cols) = (793, 85)]\n",
      "Creating unbalanced dataset:\n",
      "\tCompleted UbWs: window_size Unbalanced.\n",
      "\tCompleted UbRs: Random Selection Unbalanced.\n",
      "\tCompleted UbRd: Random Deleting Unbalanced.\n",
      "\tCompleted UnBa: Removing Last Feature Unbalanced.\n",
      "\n",
      "\n",
      "Original Dataset=Immuno_Therapy.csv [(rows, cols) = (90, 8)]\n",
      "Creating unbalanced dataset:\n",
      "\tCompleted UbWs: window_size Unbalanced.\n",
      "\tCompleted UbRs: Random Selection Unbalanced.\n",
      "\tCompleted UbRd: Random Deleting Unbalanced.\n",
      "\tCompleted UnBa: Removing Last Feature Unbalanced.\n",
      "\n",
      "\n",
      "Original Dataset=German_Credit.csv [(rows, cols) = (1000, 25)]\n",
      "Creating unbalanced dataset:\n",
      "\tCompleted UbWs: window_size Unbalanced.\n",
      "\tCompleted UbRs: Random Selection Unbalanced.\n",
      "\tCompleted UbRd: Random Deleting Unbalanced.\n",
      "\tCompleted UnBa: Removing Last Feature Unbalanced.\n",
      "\n",
      "\n",
      "Original Dataset=Lung_Cancer.csv [(rows, cols) = (27, 57)]\n",
      "Creating unbalanced dataset:\n",
      "\tCompleted UbWs: window_size Unbalanced.\n",
      "\tCompleted UbRs: Random Selection Unbalanced.\n",
      "\tCompleted UbRd: Random Deleting Unbalanced.\n",
      "\tCompleted UnBa: Removing Last Feature Unbalanced.\n",
      "\n",
      "\n",
      "Original Dataset=Voice_Rehabilitation.csv [(rows, cols) = (126, 311)]\n",
      "Creating unbalanced dataset:\n",
      "\tCompleted UbWs: window_size Unbalanced.\n",
      "\tCompleted UbRs: Random Selection Unbalanced.\n",
      "\tCompleted UbRd: Random Deleting Unbalanced.\n",
      "\tCompleted UnBa: Removing Last Feature Unbalanced.\n",
      "\n",
      "\n",
      "Original Dataset=Breast_Cancer.csv [(rows, cols) = (683, 11)]\n",
      "Creating unbalanced dataset:\n",
      "\tCompleted UbWs: window_size Unbalanced.\n",
      "\tCompleted UbRs: Random Selection Unbalanced.\n",
      "\tCompleted UbRd: Random Deleting Unbalanced.\n",
      "\tCompleted UnBa: Removing Last Feature Unbalanced.\n",
      "\n",
      "\n"
     ]
    }
   ],
   "source": [
    "cfg = Config()\n",
    "fileNames = [os.path.basename(filePath) for filePath in glob.glob(os.path.join(cfg.ORG_DATA_PATH, \"*.csv\"))]\n",
    "for fileName in fileNames:\n",
    "    orgFilePath = os.path.join(cfg.ORG_DATA_PATH, fileName)\n",
    "    df_org = pd.read_csv(orgFilePath, delimiter=\",\", index_col=False)\n",
    "    print(\"Original Dataset={} [(rows, cols) = {}]\".format(fileName, df_org.shape))\n",
    "    print(\"Creating unbalanced dataset:\")\n",
    "    apply_unbalanced(cfg, df_org.copy(), fileName)\n",
    "    print(\"\\n\")"
   ]
  },
  {
   "cell_type": "code",
   "execution_count": null,
   "metadata": {},
   "outputs": [],
   "source": []
  }
 ],
 "metadata": {
  "kernelspec": {
   "display_name": "Python 3",
   "language": "python",
   "name": "python3"
  },
  "language_info": {
   "codemirror_mode": {
    "name": "ipython",
    "version": 3
   },
   "file_extension": ".py",
   "mimetype": "text/x-python",
   "name": "python",
   "nbconvert_exporter": "python",
   "pygments_lexer": "ipython3",
   "version": "3.7.7"
  }
 },
 "nbformat": 4,
 "nbformat_minor": 2
}
